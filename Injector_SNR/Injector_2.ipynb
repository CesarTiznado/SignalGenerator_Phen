{
 "cells": [
  {
   "cell_type": "markdown",
   "id": "3ebaefdf-8c70-461f-879f-264c515107b3",
   "metadata": {},
   "source": [
    "### Define the modules"
   ]
  },
  {
   "cell_type": "code",
   "execution_count": 1,
   "id": "7c228fc3-dfff-4478-b3e7-64f1026f7252",
   "metadata": {},
   "outputs": [],
   "source": [
    "import Noise_ph as ns\n",
    "import Explorer_wf as ewf\n",
    "import random\n",
    "import copy\n",
    "import numpy as np\n",
    "import scipy as sc\n",
    "import scipy.signal as sg\n",
    "import scipy.fftpack as fftpack \n",
    "from matplotlib import pyplot as plt"
   ]
  },
  {
   "cell_type": "markdown",
   "id": "85e82641-30c0-4140-9102-306a6116e565",
   "metadata": {},
   "source": [
    "### Noise Explorer Module to select the Noise from the storage."
   ]
  },
  {
   "cell_type": "code",
   "execution_count": 2,
   "id": "8bb1d925-677f-4682-b6c5-be6428969519",
   "metadata": {},
   "outputs": [
    {
     "name": "stdout",
     "output_type": "stream",
     "text": [
      "*******************************\n",
      "The available sets of data are the following:\n",
      "No.1 ['C:/Users/ce_ti/OneDrive/Escritorio/Thesis/Phenom/Noise/L1\\\\L-L1_GWOSC_O3b_16KHZ_R1-1256665088-4096.hdf5']\n",
      "Chosen strain data segment:\n",
      "C:/Users/ce_ti/OneDrive/Escritorio/Thesis/Phenom/Noise/L1\\L-L1_GWOSC_O3b_16KHZ_R1-1256665088-4096.hdf5\n",
      "*******************************\n",
      "L1 Keys: <KeysViewHDF5 ['meta', 'quality', 'strain']>\n",
      "*******************************\n",
      "<KeysViewHDF5 ['meta', 'quality', 'strain']>\n",
      "*******************************\n",
      "Strain_signal: [ 2.18581530e-19  2.20534486e-19  2.17628242e-19 ... -7.47271276e-19\n",
      " -7.88403545e-19 -7.45705850e-19]\n",
      "*******************************\n",
      "GPS start time: 1256665088\n",
      "Segment Duration (s): 4096\n",
      "Strain_time: [1.25666509e+09 1.25666509e+09 1.25666509e+09 ... 1.25666918e+09\n",
      " 1.25666918e+09 1.25666918e+09]\n"
     ]
    }
   ],
   "source": [
    "raw_data_available = ns.Noise('C:/Users/ce_ti/OneDrive/Escritorio/Thesis/Phenom/Noise/L1/', \"L1\")\n",
    "Detector = \"L1\"\n",
    "raw_data_L1 = raw_data_available.select_Data(0)\n",
    "print(raw_data_L1.keys())\n",
    "strain_data_L1= ns.Noise_strain(raw_data_L1).strain()\n",
    "GPS_Start_L1, Duration_L1, strain_time_L1 =ns.Noise_strain(raw_data_L1).strain_time()"
   ]
  },
  {
   "cell_type": "markdown",
   "id": "1e2ab3f1-cd79-4126-9b3f-5a29cdd1262c",
   "metadata": {},
   "source": [
    "### WF explorer Module to select the Phen WF"
   ]
  },
  {
   "cell_type": "code",
   "execution_count": 3,
   "id": "9c195bd6-1db6-4ea8-a78d-a6ad3caddd7b",
   "metadata": {},
   "outputs": [
    {
     "name": "stdout",
     "output_type": "stream",
     "text": [
      "*******************************\n",
      "The available set of data are the following:\n",
      "The set segments of data available are the following:\n",
      "1010\n",
      "*******************************\n",
      "Chosen strain data segments:\n",
      "C:/Users/ce_ti/OneDrive/Escritorio/Thesis/Phenom/Generator/Slow\\Slow_run1H0_Slope2667_f0(124.52)_f1(3492.96).csv\n",
      "Phen Keys: Index(['H', 'Time'], dtype='object')\n",
      "*******************************\n"
     ]
    }
   ],
   "source": [
    "## Phen Reader\n",
    "Slow_Dir = 'C:/Users/ce_ti/OneDrive/Escritorio/Thesis/Phenom/Generator/Slow/'\n",
    "Ph_raw_data = ewf.Phen(Slow_Dir,\"Phen\")\n",
    "selected_Ph = Ph_raw_data.select_Data(0)\n",
    "\n",
    "\n",
    "# Variables of the Phenomenological Waveform\n",
    "h_phen = selected_Ph[\"H\"]\n",
    "h_time = selected_Ph[\"Time\"]\n",
    "h_new = copy.copy(h_phen)"
   ]
  },
  {
   "cell_type": "code",
   "execution_count": 5,
   "id": "a6939462-3c4a-4991-867e-1a61edff64a6",
   "metadata": {},
   "outputs": [],
   "source": [
    "fs=16384\n",
    "len_Segmento = fs * 16 \n",
    "n = int(len(strain_time_L1)/len_Segmento )"
   ]
  },
  {
   "cell_type": "markdown",
   "id": "4eec3cca-9ba1-42af-8e07-6de4bb8f4863",
   "metadata": {},
   "source": [
    "### Injections without jitter."
   ]
  },
  {
   "cell_type": "code",
   "execution_count": null,
   "id": "4cb2934a-049a-486c-a0ca-595cfca4f472",
   "metadata": {},
   "outputs": [],
   "source": [
    "%%time\n",
    "\n",
    "strain_new = copy.copy(strain_data_L1)\n",
    "labels = []\n",
    "\n",
    "for i in range(0,n):\n",
    "    s = i*16*fs\n",
    "    labels.append(s)\n",
    "    #print(f\"Bloque:{i}\", s)\n",
    "    for k in range(0,len(h_new)):\n",
    "        strain_new[s + k] = h_new[k] + strain_data_L1[s + k] "
   ]
  },
  {
   "cell_type": "markdown",
   "id": "5dde1da4-9f9c-4499-a144-e28eaca4350c",
   "metadata": {},
   "source": [
    "### Injections with jitter from (-2,2) sec."
   ]
  },
  {
   "cell_type": "code",
   "execution_count": 6,
   "id": "3dee7a41-f8bc-45ee-b357-6a52e1dae54a",
   "metadata": {},
   "outputs": [
    {
     "name": "stdout",
     "output_type": "stream",
     "text": [
      "Wall time: 4.39 s\n"
     ]
    }
   ],
   "source": [
    "%%time\n",
    "strain_noise = copy.copy(strain_data_L1)   # Strain of the Noise detectors\n",
    "#jit_stor = []                              # Jitter storage  \n",
    "D = 256                                    # Maximum Number of partitions\n",
    "jit_stor = np.zeros(D)                     # Initialization of Jitter storage of D-Dimension\n",
    "\n",
    "factor =     abs(np.max(strain_data_L1)) - abs(np.min(strain_data_L1)) / 2 # Factor of \"Resample\"\n",
    "h_phenRes = h_phen * factor                                                # Signal Resized to the maximum of the Amplitude Noise \n",
    "jit_stor[0] = random.randint(0,2*fs)                                       # Established the first value of the jitter that can only be from 0 to 2 seg.\n",
    "\n",
    "db = True                                  # Booleant that will allowed to exit the while loop.\n",
    "contador = 0                               # \n",
    "i=1                                        # Initialize the number of the iterator i in i=1.\n",
    "while db==True:\n",
    "    jit_stor[i] = random.randint(-2*fs,2*fs)                               # jitter valor from -(2,2) sec.\n",
    "    jit_stor[i]= int(jit_stor[i-1] + len(h_phenRes) +16*fs + jit_stor[i] ) # The real segment that count the jitter with the time.\n",
    "    #print(jit_stor[i])\n",
    "    if jit_stor[i] >= len(strain_data_L1):                                 # \n",
    "        db = False\n",
    "        jit_stor = jit_stor[jit_stor!=0]\n",
    "    else:\n",
    "        for j in range(0,len(h_phenRes)):\n",
    "            k = int(jit_stor[i-1])\n",
    "            strain_noise[k + j] =  strain_data_L1[k+j] + h_phenRes[j]\n",
    "    i+=1\n"
   ]
  },
  {
   "cell_type": "markdown",
   "id": "4cb036fd-574f-4538-8e03-786b9277e6b1",
   "metadata": {},
   "source": [
    "### Define the Functions of FFT,PSD and SNR"
   ]
  },
  {
   "cell_type": "code",
   "execution_count": 81,
   "id": "e4d794e7-e896-4c9d-8b82-45d74afe5a11",
   "metadata": {},
   "outputs": [],
   "source": [
    "def fft_signal(h,t):\n",
    "    dt = t[1] - t [0]\n",
    "    \n",
    "    # Fourier Transform\n",
    "    h_f = dt*fftpack.fft(h)\n",
    "    f   = fftpack.fftfreq(len(t),dt)\n",
    "    \n",
    "    # Shift frequencies\n",
    "    f   =  fftpack.fftshift(f)\n",
    "    h_f =  fftpack.fftshift(h_f)\n",
    "    \n",
    "    # The one sided fft\n",
    "    n   = len(f)\n",
    "    f   = f[int(n/2)+1:n-1]\n",
    "    h_f = 2.0*h_f[int(n/2)+1:n-1]\n",
    "    \n",
    "    return f,h_f\n",
    "\n",
    "def PSD(h,fs):    \n",
    "    nfft = 4 * fs                                    # Use 4 seconds of data for each fourier transform\n",
    "    noverlap = 1 * nfft / 2                          # The number of points of overlap between segments used in Welch averaging\n",
    "    freq,psd = sg.welch(h,fs=fs,window = window, return_onesided =True)\n",
    "    \n",
    "    freq = np.array(freq).reshape(freq.shape[0],1)   # Vectorization of freq.\n",
    "    psd  = np.array(psd).reshape(psd.shape[0],1)     # Vectorization of psd.\n",
    "    return freq, psd\n",
    "\n",
    "def SNR(h,t,fpsd,psd,factor):\n",
    "    f1,fft = fft_signal(h,t)                         # Calculate the FFT.\n",
    "    fft = abs(fft)                                   # Absolute valor of the fft\n",
    "    \n",
    "    fft = fft*factor                                 # Multiplicate by the factor  \n",
    "    \n",
    "    tck = sc.interpolate.splrep(fpsd,psd,s=0)        # To have the same dim, we interpolate\n",
    "    psd = sc.interpolate.splev(f1,tck,der=0)         # and have the PSD with the same dim with the one sided frequency of the FFT.\n",
    "    \n",
    "    df = f1[2] - f1[1]                               # Differential of the frequency\n",
    "\n",
    "    print(f\"PSD: {psd}\")                                \n",
    "    SNRsq =  np.sum(((fft**2)*df)/psd)               # Calculate the integral from the doc:\n",
    "\n",
    "    SNR = np.sqrt(SNRsq)                             # Calculate the SNR\n",
    "    \n",
    "    return SNR\n"
   ]
  },
  {
   "cell_type": "code",
   "execution_count": 82,
   "id": "5d2fd2e4-450a-47f0-bf80-b3deaf3df6b5",
   "metadata": {},
   "outputs": [],
   "source": [
    "# Vectorization of the Phenomenological signal\n",
    "h_phen = np.array(h_phen).reshape(h_phen.shape[0],1)\n",
    "h_time = np.array(h_time).reshape(h_time.shape[0],1)\n",
    "f_h,h_f = fft_signal(h_phen,h_time)"
   ]
  },
  {
   "cell_type": "code",
   "execution_count": null,
   "id": "0a95f0ce-83fe-471b-a760-3b23b720b6eb",
   "metadata": {},
   "outputs": [],
   "source": [
    "plt.plot(f_h, h_f)"
   ]
  },
  {
   "cell_type": "code",
   "execution_count": 83,
   "id": "0682480f-e2a9-4e8a-8ce9-b4b1b6c72b8c",
   "metadata": {},
   "outputs": [
    {
     "name": "stdout",
     "output_type": "stream",
     "text": [
      "PSD is: [[7.86519670e-41]\n",
      " [2.80062501e-41]\n",
      " [6.37771147e-42]\n",
      " ...\n",
      " [5.66142552e-53]\n",
      " [1.04096595e-53]\n",
      " [3.10773968e-54]]\n",
      "Wall time: 3.69 s\n"
     ]
    }
   ],
   "source": [
    "%%time\n",
    "# The psd from the Noise, with out injections\n",
    "fs = 16384\n",
    "f_psd,S_psd = PSD(strain_data_L1,fs)\n",
    "print(f\"PSD is: {S_psd}\")\n",
    "#plt.loglog(S_psd)"
   ]
  },
  {
   "cell_type": "code",
   "execution_count": 84,
   "id": "21a250bc-3387-453b-975f-ff59a5a995bd",
   "metadata": {},
   "outputs": [
    {
     "name": "stdout",
     "output_type": "stream",
     "text": [
      "PSD: [2.80062501e-41 6.37771147e-42 8.58761382e-40 ... 3.70034066e-53\n",
      " 5.66142552e-53 1.04096595e-53]\n",
      "The SNR is: 774.854951226716\n",
      "Wall time: 67.5 ms\n"
     ]
    }
   ],
   "source": [
    "%%time\n",
    "snr = SNR(h_phen,h_time,f_psd,S_psd,1e-21)\n",
    "print(f\"The SNR is: {snr}\")\n",
    "#snr = SNR(h_phen,h_time,freq,psd,1e-53)"
   ]
  }
 ],
 "metadata": {
  "kernelspec": {
   "display_name": "Python 3 (ipykernel)",
   "language": "python",
   "name": "python3"
  },
  "language_info": {
   "codemirror_mode": {
    "name": "ipython",
    "version": 3
   },
   "file_extension": ".py",
   "mimetype": "text/x-python",
   "name": "python",
   "nbconvert_exporter": "python",
   "pygments_lexer": "ipython3",
   "version": "3.9.16"
  }
 },
 "nbformat": 4,
 "nbformat_minor": 5
}
